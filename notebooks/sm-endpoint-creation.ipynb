{
 "cells": [
  {
   "cell_type": "markdown",
   "id": "56bb9e26-0666-4829-8d14-135c48bd1854",
   "metadata": {},
   "source": [
    "# Chapter Summarizer Inference\n",
    "Create a serverless endoint using a pre-baked docker container."
   ]
  },
  {
   "cell_type": "code",
   "execution_count": 1,
   "id": "a91f0a14-70a1-48d8-bbed-241347cb1bd0",
   "metadata": {
    "tags": []
   },
   "outputs": [
    {
     "name": "stdout",
     "output_type": "stream",
     "text": [
      "Looking in indexes: https://pypi.org/simple, https://pip.repos.neuron.amazonaws.com\n",
      "Requirement already satisfied: sagemaker in /home/ec2-user/anaconda3/envs/mxnet_p38/lib/python3.8/site-packages (2.132.0)\n",
      "Collecting sagemaker\n",
      "  Downloading sagemaker-2.151.0.tar.gz (747 kB)\n",
      "\u001b[2K     \u001b[90m━━━━━━━━━━━━━━━━━━━━━━━━━━━━━━━━━━━━━━\u001b[0m \u001b[32m748.0/748.0 kB\u001b[0m \u001b[31m22.2 MB/s\u001b[0m eta \u001b[36m0:00:00\u001b[0m\n",
      "\u001b[?25h  Preparing metadata (setup.py) ... \u001b[?25ldone\n",
      "\u001b[?25hRequirement already satisfied: botocore in /home/ec2-user/anaconda3/envs/mxnet_p38/lib/python3.8/site-packages (1.29.71)\n",
      "Collecting botocore\n",
      "  Downloading botocore-1.29.122-py3-none-any.whl (10.7 MB)\n",
      "\u001b[2K     \u001b[90m━━━━━━━━━━━━━━━━━━━━━━━━━━━━━━━━━━━━━━━━\u001b[0m \u001b[32m10.7/10.7 MB\u001b[0m \u001b[31m58.7 MB/s\u001b[0m eta \u001b[36m0:00:00\u001b[0m00:01\u001b[0m0:01\u001b[0m\n",
      "\u001b[?25hRequirement already satisfied: boto3 in /home/ec2-user/anaconda3/envs/mxnet_p38/lib/python3.8/site-packages (1.26.71)\n",
      "Collecting boto3\n",
      "  Downloading boto3-1.26.122-py3-none-any.whl (135 kB)\n",
      "\u001b[2K     \u001b[90m━━━━━━━━━━━━━━━━━━━━━━━━━━━━━━━━━━━━━━\u001b[0m \u001b[32m135.6/135.6 kB\u001b[0m \u001b[31m27.0 MB/s\u001b[0m eta \u001b[36m0:00:00\u001b[0m\n",
      "\u001b[?25hRequirement already satisfied: awscli in /home/ec2-user/anaconda3/envs/mxnet_p38/lib/python3.8/site-packages (1.27.71)\n",
      "Collecting awscli\n",
      "  Downloading awscli-1.27.122-py3-none-any.whl (4.1 MB)\n",
      "\u001b[2K     \u001b[90m━━━━━━━━━━━━━━━━━━━━━━━━━━━━━━━━━━━━━━━━\u001b[0m \u001b[32m4.1/4.1 MB\u001b[0m \u001b[31m30.5 MB/s\u001b[0m eta \u001b[36m0:00:00\u001b[0m:00:01\u001b[0m\n",
      "\u001b[?25hRequirement already satisfied: attrs<23,>=20.3.0 in /home/ec2-user/anaconda3/envs/mxnet_p38/lib/python3.8/site-packages (from sagemaker) (22.2.0)\n",
      "Collecting cloudpickle==2.2.1\n",
      "  Downloading cloudpickle-2.2.1-py3-none-any.whl (25 kB)\n",
      "Requirement already satisfied: google-pasta in /home/ec2-user/anaconda3/envs/mxnet_p38/lib/python3.8/site-packages (from sagemaker) (0.2.0)\n",
      "Requirement already satisfied: numpy<2.0,>=1.9.0 in /home/ec2-user/anaconda3/envs/mxnet_p38/lib/python3.8/site-packages (from sagemaker) (1.22.3)\n",
      "Requirement already satisfied: protobuf<4.0,>=3.1 in /home/ec2-user/anaconda3/envs/mxnet_p38/lib/python3.8/site-packages (from sagemaker) (3.20.2)\n",
      "Requirement already satisfied: protobuf3-to-dict<1.0,>=0.1.5 in /home/ec2-user/anaconda3/envs/mxnet_p38/lib/python3.8/site-packages (from sagemaker) (0.1.5)\n",
      "Requirement already satisfied: smdebug_rulesconfig==1.0.1 in /home/ec2-user/anaconda3/envs/mxnet_p38/lib/python3.8/site-packages (from sagemaker) (1.0.1)\n",
      "Requirement already satisfied: importlib-metadata<5.0,>=1.4.0 in /home/ec2-user/anaconda3/envs/mxnet_p38/lib/python3.8/site-packages (from sagemaker) (4.13.0)\n",
      "Requirement already satisfied: packaging>=20.0 in /home/ec2-user/anaconda3/envs/mxnet_p38/lib/python3.8/site-packages (from sagemaker) (21.3)\n",
      "Requirement already satisfied: pandas in /home/ec2-user/anaconda3/envs/mxnet_p38/lib/python3.8/site-packages (from sagemaker) (1.4.4)\n",
      "Requirement already satisfied: pathos in /home/ec2-user/anaconda3/envs/mxnet_p38/lib/python3.8/site-packages (from sagemaker) (0.3.0)\n",
      "Requirement already satisfied: schema in /home/ec2-user/anaconda3/envs/mxnet_p38/lib/python3.8/site-packages (from sagemaker) (0.7.5)\n",
      "Requirement already satisfied: PyYAML==5.4.1 in /home/ec2-user/anaconda3/envs/mxnet_p38/lib/python3.8/site-packages (from sagemaker) (5.4.1)\n",
      "Requirement already satisfied: jsonschema in /home/ec2-user/anaconda3/envs/mxnet_p38/lib/python3.8/site-packages (from sagemaker) (3.2.0)\n",
      "Requirement already satisfied: platformdirs in /home/ec2-user/anaconda3/envs/mxnet_p38/lib/python3.8/site-packages (from sagemaker) (2.6.2)\n",
      "Requirement already satisfied: tblib==1.7.0 in /home/ec2-user/anaconda3/envs/mxnet_p38/lib/python3.8/site-packages (from sagemaker) (1.7.0)\n",
      "Requirement already satisfied: jmespath<2.0.0,>=0.7.1 in /home/ec2-user/anaconda3/envs/mxnet_p38/lib/python3.8/site-packages (from botocore) (1.0.1)\n",
      "Requirement already satisfied: python-dateutil<3.0.0,>=2.1 in /home/ec2-user/anaconda3/envs/mxnet_p38/lib/python3.8/site-packages (from botocore) (2.8.2)\n",
      "Requirement already satisfied: urllib3<1.27,>=1.25.4 in /home/ec2-user/anaconda3/envs/mxnet_p38/lib/python3.8/site-packages (from botocore) (1.26.8)\n",
      "Requirement already satisfied: s3transfer<0.7.0,>=0.6.0 in /home/ec2-user/anaconda3/envs/mxnet_p38/lib/python3.8/site-packages (from boto3) (0.6.0)\n",
      "Requirement already satisfied: rsa<4.8,>=3.1.2 in /home/ec2-user/anaconda3/envs/mxnet_p38/lib/python3.8/site-packages (from awscli) (4.7.2)\n",
      "Requirement already satisfied: docutils<0.17,>=0.10 in /home/ec2-user/anaconda3/envs/mxnet_p38/lib/python3.8/site-packages (from awscli) (0.15.2)\n",
      "Requirement already satisfied: colorama<0.4.5,>=0.2.5 in /home/ec2-user/anaconda3/envs/mxnet_p38/lib/python3.8/site-packages (from awscli) (0.4.3)\n",
      "Requirement already satisfied: zipp>=0.5 in /home/ec2-user/anaconda3/envs/mxnet_p38/lib/python3.8/site-packages (from importlib-metadata<5.0,>=1.4.0->sagemaker) (3.11.0)\n",
      "Requirement already satisfied: pyparsing!=3.0.5,>=2.0.2 in /home/ec2-user/anaconda3/envs/mxnet_p38/lib/python3.8/site-packages (from packaging>=20.0->sagemaker) (3.0.9)\n",
      "Requirement already satisfied: six in /home/ec2-user/anaconda3/envs/mxnet_p38/lib/python3.8/site-packages (from protobuf3-to-dict<1.0,>=0.1.5->sagemaker) (1.16.0)\n",
      "Requirement already satisfied: pyasn1>=0.1.3 in /home/ec2-user/anaconda3/envs/mxnet_p38/lib/python3.8/site-packages (from rsa<4.8,>=3.1.2->awscli) (0.4.8)\n",
      "Requirement already satisfied: pyrsistent>=0.14.0 in /home/ec2-user/anaconda3/envs/mxnet_p38/lib/python3.8/site-packages (from jsonschema->sagemaker) (0.19.3)\n",
      "Requirement already satisfied: setuptools in /home/ec2-user/anaconda3/envs/mxnet_p38/lib/python3.8/site-packages (from jsonschema->sagemaker) (65.6.3)\n",
      "Requirement already satisfied: pytz>=2020.1 in /home/ec2-user/anaconda3/envs/mxnet_p38/lib/python3.8/site-packages (from pandas->sagemaker) (2022.7)\n",
      "Requirement already satisfied: ppft>=1.7.6.6 in /home/ec2-user/anaconda3/envs/mxnet_p38/lib/python3.8/site-packages (from pathos->sagemaker) (1.7.6.6)\n",
      "Requirement already satisfied: multiprocess>=0.70.14 in /home/ec2-user/anaconda3/envs/mxnet_p38/lib/python3.8/site-packages (from pathos->sagemaker) (0.70.14)\n",
      "Requirement already satisfied: pox>=0.3.2 in /home/ec2-user/anaconda3/envs/mxnet_p38/lib/python3.8/site-packages (from pathos->sagemaker) (0.3.2)\n",
      "Requirement already satisfied: dill>=0.3.6 in /home/ec2-user/anaconda3/envs/mxnet_p38/lib/python3.8/site-packages (from pathos->sagemaker) (0.3.6)\n",
      "Requirement already satisfied: contextlib2>=0.5.5 in /home/ec2-user/anaconda3/envs/mxnet_p38/lib/python3.8/site-packages (from schema->sagemaker) (21.6.0)\n",
      "Building wheels for collected packages: sagemaker\n",
      "  Building wheel for sagemaker (setup.py) ... \u001b[?25ldone\n",
      "\u001b[?25h  Created wheel for sagemaker: filename=sagemaker-2.151.0-py2.py3-none-any.whl size=1003758 sha256=1bfe10322f477afbac850c94101862b677d3436852188894ab8e6fe728c9130a\n",
      "  Stored in directory: /home/ec2-user/.cache/pip/wheels/88/e5/14/2cdbedcf27c110ec82b553386538bc26c618b4594540ccef9b\n",
      "Successfully built sagemaker\n",
      "Installing collected packages: cloudpickle, botocore, boto3, awscli, sagemaker\n",
      "  Attempting uninstall: cloudpickle\n",
      "    Found existing installation: cloudpickle 2.2.0\n",
      "    Uninstalling cloudpickle-2.2.0:\n",
      "      Successfully uninstalled cloudpickle-2.2.0\n",
      "  Attempting uninstall: botocore\n",
      "    Found existing installation: botocore 1.29.71\n",
      "    Uninstalling botocore-1.29.71:\n",
      "      Successfully uninstalled botocore-1.29.71\n",
      "  Attempting uninstall: boto3\n",
      "    Found existing installation: boto3 1.26.71\n",
      "    Uninstalling boto3-1.26.71:\n",
      "      Successfully uninstalled boto3-1.26.71\n",
      "  Attempting uninstall: awscli\n",
      "    Found existing installation: awscli 1.27.71\n",
      "    Uninstalling awscli-1.27.71:\n",
      "      Successfully uninstalled awscli-1.27.71\n",
      "  Attempting uninstall: sagemaker\n",
      "    Found existing installation: sagemaker 2.132.0\n",
      "    Uninstalling sagemaker-2.132.0:\n",
      "      Successfully uninstalled sagemaker-2.132.0\n",
      "\u001b[31mERROR: pip's dependency resolver does not currently take into account all the packages that are installed. This behaviour is the source of the following dependency conflicts.\n",
      "distributed 2022.11.0 requires tornado<6.2,>=6.0.3, but you have tornado 6.2 which is incompatible.\u001b[0m\u001b[31m\n",
      "\u001b[0mSuccessfully installed awscli-1.27.122 boto3-1.26.122 botocore-1.29.122 cloudpickle-2.2.1 sagemaker-2.151.0\n"
     ]
    }
   ],
   "source": [
    "!pip install sagemaker botocore boto3 awscli --upgrade"
   ]
  },
  {
   "cell_type": "code",
   "execution_count": 1,
   "id": "7d579829-f942-4a4b-86f2-32a5e7df1097",
   "metadata": {
    "tags": []
   },
   "outputs": [],
   "source": [
    "BASE_NAME = \"chpater-sum-gpt3\"\n",
    "SERVE_IMG_URI = \"957269117416.dkr.ecr.eu-central-1.amazonaws.com/chapter-sum-gpt3:latest\""
   ]
  },
  {
   "cell_type": "markdown",
   "id": "bea93378-2031-4b1a-b71b-02614813342f",
   "metadata": {},
   "source": [
    "## Define role, model name, and endpoint name"
   ]
  },
  {
   "cell_type": "code",
   "execution_count": 2,
   "id": "767f1ebc-079a-45bc-8106-6429375cc7a2",
   "metadata": {
    "tags": []
   },
   "outputs": [
    {
     "name": "stdout",
     "output_type": "stream",
     "text": [
      "Model name: chpater-sum-gpt3-apr23-model\n",
      "Endpoint name: chpater-sum-gpt3-apr23-endpoint\n",
      "Image URI: 957269117416.dkr.ecr.eu-central-1.amazonaws.com/chapter-sum-gpt3:latest\n",
      "Role: arn:aws:iam::957269117416:role/service-role/AmazonSageMaker-ExecutionRole-20230121T194089\n"
     ]
    }
   ],
   "source": [
    "import boto3\n",
    "import sagemaker\n",
    "from sagemaker import Session\n",
    "from sagemaker.model import Model\n",
    "from sagemaker.predictor import Predictor\n",
    "from sagemaker.serializers import JSONSerializer\n",
    "\n",
    "sagemaker_role = sagemaker.get_execution_role()\n",
    "\n",
    "model_name = f\"{BASE_NAME}-model\"\n",
    "endpoint_name = f\"{BASE_NAME}-endpoint\"\n",
    "print(f\"Model name: {model_name}\")\n",
    "print(f\"Endpoint name: {endpoint_name}\")\n",
    "print(f\"Image URI: {SERVE_IMG_URI}\")\n",
    "print(f\"Role: {sagemaker_role}\")"
   ]
  },
  {
   "cell_type": "markdown",
   "id": "f2fb5a1f-65c8-48c3-90f7-26c7ab92e455",
   "metadata": {},
   "source": [
    "## Create a SageMaker model, serverless config, and serverless endpoint"
   ]
  },
  {
   "cell_type": "code",
   "execution_count": 17,
   "id": "47d6e788-ba79-4608-98dd-2fba7c9a3814",
   "metadata": {
    "tags": []
   },
   "outputs": [
    {
     "name": "stdout",
     "output_type": "stream",
     "text": [
      "--!\n",
      "Created model: chpater-sum-gpt3-apr23-model\n",
      "Created endpoint: chpater-sum-gpt3-apr23-endpoint\n"
     ]
    }
   ],
   "source": [
    "from sagemaker.serverless import ServerlessInferenceConfig\n",
    "\n",
    "#create a SM model using a pre-baked docker container\n",
    "summarizer_model = Model(\n",
    "    name=model_name,\n",
    "    role=sagemaker_role,\n",
    "    image_uri=SERVE_IMG_URI,\n",
    "    predictor_cls=Predictor,\n",
    "    #env = {'MODEL_SERVER_TIMEOUT' : '3000' }\n",
    ")\n",
    "\n",
    "# Specify MemorySizeInMB and MaxConcurrency in the serverless config object\n",
    "serverless_config = ServerlessInferenceConfig(\n",
    "  memory_size_in_mb=2048,\n",
    "  max_concurrency=2,\n",
    ")\n",
    "\n",
    "# create an endpoint config and endpoint.\n",
    "serverless_predictor = summarizer_model.deploy(\n",
    "    endpoint_name=endpoint_name,\n",
    "    serializer=JSONSerializer(),\n",
    "    serverless_inference_config=serverless_config\n",
    ")\n",
    "\n",
    "print(f\"\\nCreated model: {summarizer_model.name}\")\n",
    "print(f\"Created endpoint: {serverless_predictor.endpoint_name}\")"
   ]
  },
  {
   "cell_type": "markdown",
   "id": "fed1544b-b6e3-4e10-bc13-6e984789cd24",
   "metadata": {},
   "source": [
    "## Getting prediction from an endpoint"
   ]
  },
  {
   "cell_type": "code",
   "execution_count": 10,
   "id": "e71c4daa-925a-44bc-91eb-efb7ce7098ca",
   "metadata": {},
   "outputs": [
    {
     "name": "stdout",
     "output_type": "stream",
     "text": [
      "Summary:\n",
      ": Alice follows a White Rabbit into a rabbit-hole, and falls down a deep well. She is eventually rescued by a mouse, sees a beautiful garden, and finally escapes from the hall by unlocking a door with a key she finds on a small glass table. \n",
      "\n",
      "Alice found a key and a bottle of wine on her way to the little door, but she got lost trying to find the right way to shut it. She ate a cake to make herself grow, but didn't grow at all.\n"
     ]
    }
   ],
   "source": [
    "import json\n",
    "\n",
    "sm_runtime= boto3.client('runtime.sagemaker')\n",
    "input_path = \"/home/ec2-user/SageMaker/chapter_summarization_api/src/summarizer/resources/chapter/01.txt\"\n",
    "\n",
    "with open(input_path, \"r\") as fp:\n",
    "    long_text = fp.read()\n",
    "    \n",
    "    payload_json = json.dumps({'text': long_text})\n",
    "\n",
    "    response = sm_runtime.invoke_endpoint(\n",
    "        EndpointName=endpoint_name, \n",
    "        Body=payload_json.encode('utf-8'), \n",
    "        ContentType=\"application/json\",\n",
    "        Accept=\"application/json\"\n",
    "    )\n",
    "\n",
    "    response_body = response['Body'].read().decode('utf-8')\n",
    "    summary_text = json.loads(response_body)[\"summary\"]\n",
    "    print(f\"Summary:\\n{summary_text}\")"
   ]
  },
  {
   "cell_type": "markdown",
   "id": "e4421838-a588-4ad8-b61e-624b358ecf20",
   "metadata": {},
   "source": [
    "## Clean up Resources"
   ]
  },
  {
   "cell_type": "code",
   "execution_count": 3,
   "id": "ca752f74-d76a-4df8-afeb-944548452a51",
   "metadata": {
    "tags": []
   },
   "outputs": [
    {
     "name": "stdout",
     "output_type": "stream",
     "text": [
      "Delete endpoint response: {'ResponseMetadata': {'RequestId': '367ede45-8ba0-44e5-8071-1a8a0fb42a5d', 'HTTPStatusCode': 200, 'HTTPHeaders': {'x-amzn-requestid': '367ede45-8ba0-44e5-8071-1a8a0fb42a5d', 'content-type': 'application/x-amz-json-1.1', 'content-length': '0', 'date': 'Sat, 29 Apr 2023 03:27:09 GMT'}, 'RetryAttempts': 0}}\n",
      "Delete endpoint configuration response: {'ResponseMetadata': {'RequestId': 'b29c7836-9b0f-41f8-897e-81362b922eb2', 'HTTPStatusCode': 200, 'HTTPHeaders': {'x-amzn-requestid': 'b29c7836-9b0f-41f8-897e-81362b922eb2', 'content-type': 'application/x-amz-json-1.1', 'content-length': '0', 'date': 'Sat, 29 Apr 2023 03:27:09 GMT'}, 'RetryAttempts': 0}}\n",
      "Delete model response: {'ResponseMetadata': {'RequestId': '901d3da8-c6f8-4121-8181-5c23338d0537', 'HTTPStatusCode': 200, 'HTTPHeaders': {'x-amzn-requestid': '901d3da8-c6f8-4121-8181-5c23338d0537', 'content-type': 'application/x-amz-json-1.1', 'content-length': '0', 'date': 'Sat, 29 Apr 2023 03:27:09 GMT'}, 'RetryAttempts': 0}}\n"
     ]
    }
   ],
   "source": [
    "sm = boto3.client(\"sagemaker\")\n",
    "\n",
    "response = sm.delete_endpoint(EndpointName=endpoint_name)\n",
    "print(f\"Delete endpoint response: {response}\")\n",
    "\n",
    "response = sm.delete_endpoint_config(EndpointConfigName=endpoint_name)\n",
    "print(f\"Delete endpoint configuration response: {response}\")\n",
    "\n",
    "response = sm.delete_model(ModelName=model_name)\n",
    "print(f\"Delete model response: {response}\")"
   ]
  },
  {
   "cell_type": "code",
   "execution_count": 1,
   "id": "06ea71a7-3fe6-417c-a1d0-a0330a2e6f50",
   "metadata": {},
   "outputs": [
    {
     "name": "stdout",
     "output_type": "stream",
     "text": [
      "Python 3.8.13\n"
     ]
    }
   ],
   "source": [
    "!python --version"
   ]
  },
  {
   "cell_type": "code",
   "execution_count": null,
   "id": "96df1395-0bb6-43ae-9210-68c174f581a5",
   "metadata": {},
   "outputs": [],
   "source": []
  }
 ],
 "metadata": {
  "kernelspec": {
   "display_name": "conda_mxnet_p38",
   "language": "python",
   "name": "conda_mxnet_p38"
  },
  "language_info": {
   "codemirror_mode": {
    "name": "ipython",
    "version": 3
   },
   "file_extension": ".py",
   "mimetype": "text/x-python",
   "name": "python",
   "nbconvert_exporter": "python",
   "pygments_lexer": "ipython3",
   "version": "3.8.15"
  }
 },
 "nbformat": 4,
 "nbformat_minor": 5
}
