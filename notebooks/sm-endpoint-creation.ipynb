{
 "cells": [
  {
   "cell_type": "markdown",
   "id": "56bb9e26-0666-4829-8d14-135c48bd1854",
   "metadata": {},
   "source": [
    "# Chapter Summarizer Inference\n",
    "Create a serverless endoint using a pre-baked docker container."
   ]
  },
  {
   "cell_type": "code",
   "execution_count": 2,
   "id": "a91f0a14-70a1-48d8-bbed-241347cb1bd0",
   "metadata": {},
   "outputs": [
    {
     "name": "stdout",
     "output_type": "stream",
     "text": [
      "Looking in indexes: https://pypi.org/simple, https://pip.repos.neuron.amazonaws.com\n",
      "Requirement already satisfied: sagemaker in /home/ec2-user/anaconda3/envs/mxnet_p38/lib/python3.8/site-packages (2.127.0)\n",
      "Collecting sagemaker\n",
      "  Downloading sagemaker-2.129.0.tar.gz (660 kB)\n",
      "\u001b[2K     \u001b[90m━━━━━━━━━━━━━━━━━━━━━━━━━━━━━━━━━━━━━━\u001b[0m \u001b[32m660.7/660.7 kB\u001b[0m \u001b[31m34.6 MB/s\u001b[0m eta \u001b[36m0:00:00\u001b[0m\n",
      "\u001b[?25h  Preparing metadata (setup.py) ... \u001b[?25ldone\n",
      "\u001b[?25hRequirement already satisfied: botocore in /home/ec2-user/anaconda3/envs/mxnet_p38/lib/python3.8/site-packages (1.29.44)\n",
      "Collecting botocore\n",
      "  Downloading botocore-1.29.56-py3-none-any.whl (10.3 MB)\n",
      "\u001b[2K     \u001b[90m━━━━━━━━━━━━━━━━━━━━━━━━━━━━━━━━━━━━━━━━\u001b[0m \u001b[32m10.3/10.3 MB\u001b[0m \u001b[31m42.8 MB/s\u001b[0m eta \u001b[36m0:00:00\u001b[0m00:01\u001b[0m00:01\u001b[0m\n",
      "\u001b[?25hRequirement already satisfied: boto3 in /home/ec2-user/anaconda3/envs/mxnet_p38/lib/python3.8/site-packages (1.26.44)\n",
      "Collecting boto3\n",
      "  Downloading boto3-1.26.56-py3-none-any.whl (132 kB)\n",
      "\u001b[2K     \u001b[90m━━━━━━━━━━━━━━━━━━━━━━━━━━━━━━━━━━━━━━\u001b[0m \u001b[32m132.7/132.7 kB\u001b[0m \u001b[31m25.8 MB/s\u001b[0m eta \u001b[36m0:00:00\u001b[0m\n",
      "\u001b[?25hRequirement already satisfied: awscli in /home/ec2-user/anaconda3/envs/mxnet_p38/lib/python3.8/site-packages (1.27.44)\n",
      "Collecting awscli\n",
      "  Downloading awscli-1.27.56-py3-none-any.whl (4.0 MB)\n",
      "\u001b[2K     \u001b[90m━━━━━━━━━━━━━━━━━━━━━━━━━━━━━━━━━━━━━━━━\u001b[0m \u001b[32m4.0/4.0 MB\u001b[0m \u001b[31m15.8 MB/s\u001b[0m eta \u001b[36m0:00:00\u001b[0m:00:01\u001b[0m00:01\u001b[0m\n",
      "\u001b[?25hRequirement already satisfied: attrs<23,>=20.3.0 in /home/ec2-user/anaconda3/envs/mxnet_p38/lib/python3.8/site-packages (from sagemaker) (22.1.0)\n",
      "Requirement already satisfied: google-pasta in /home/ec2-user/anaconda3/envs/mxnet_p38/lib/python3.8/site-packages (from sagemaker) (0.2.0)\n",
      "Requirement already satisfied: numpy<2.0,>=1.9.0 in /home/ec2-user/anaconda3/envs/mxnet_p38/lib/python3.8/site-packages (from sagemaker) (1.22.4)\n",
      "Requirement already satisfied: protobuf<4.0,>=3.1 in /home/ec2-user/anaconda3/envs/mxnet_p38/lib/python3.8/site-packages (from sagemaker) (3.20.2)\n",
      "Requirement already satisfied: protobuf3-to-dict<1.0,>=0.1.5 in /home/ec2-user/anaconda3/envs/mxnet_p38/lib/python3.8/site-packages (from sagemaker) (0.1.5)\n",
      "Requirement already satisfied: smdebug_rulesconfig==1.0.1 in /home/ec2-user/anaconda3/envs/mxnet_p38/lib/python3.8/site-packages (from sagemaker) (1.0.1)\n",
      "Requirement already satisfied: importlib-metadata<5.0,>=1.4.0 in /home/ec2-user/anaconda3/envs/mxnet_p38/lib/python3.8/site-packages (from sagemaker) (4.13.0)\n",
      "Requirement already satisfied: packaging>=20.0 in /home/ec2-user/anaconda3/envs/mxnet_p38/lib/python3.8/site-packages (from sagemaker) (21.3)\n",
      "Requirement already satisfied: pandas in /home/ec2-user/anaconda3/envs/mxnet_p38/lib/python3.8/site-packages (from sagemaker) (1.4.4)\n",
      "Requirement already satisfied: pathos in /home/ec2-user/anaconda3/envs/mxnet_p38/lib/python3.8/site-packages (from sagemaker) (0.3.0)\n",
      "Requirement already satisfied: schema in /home/ec2-user/anaconda3/envs/mxnet_p38/lib/python3.8/site-packages (from sagemaker) (0.7.5)\n",
      "Requirement already satisfied: python-dateutil<3.0.0,>=2.1 in /home/ec2-user/anaconda3/envs/mxnet_p38/lib/python3.8/site-packages (from botocore) (2.8.2)\n",
      "Requirement already satisfied: urllib3<1.27,>=1.25.4 in /home/ec2-user/anaconda3/envs/mxnet_p38/lib/python3.8/site-packages (from botocore) (1.26.8)\n",
      "Requirement already satisfied: jmespath<2.0.0,>=0.7.1 in /home/ec2-user/anaconda3/envs/mxnet_p38/lib/python3.8/site-packages (from botocore) (1.0.1)\n",
      "Requirement already satisfied: s3transfer<0.7.0,>=0.6.0 in /home/ec2-user/anaconda3/envs/mxnet_p38/lib/python3.8/site-packages (from boto3) (0.6.0)\n",
      "Requirement already satisfied: rsa<4.8,>=3.1.2 in /home/ec2-user/anaconda3/envs/mxnet_p38/lib/python3.8/site-packages (from awscli) (4.7.2)\n",
      "Requirement already satisfied: PyYAML<5.5,>=3.10 in /home/ec2-user/anaconda3/envs/mxnet_p38/lib/python3.8/site-packages (from awscli) (5.4.1)\n",
      "Requirement already satisfied: docutils<0.17,>=0.10 in /home/ec2-user/anaconda3/envs/mxnet_p38/lib/python3.8/site-packages (from awscli) (0.15.2)\n",
      "Requirement already satisfied: colorama<0.4.5,>=0.2.5 in /home/ec2-user/anaconda3/envs/mxnet_p38/lib/python3.8/site-packages (from awscli) (0.4.3)\n",
      "Requirement already satisfied: zipp>=0.5 in /home/ec2-user/anaconda3/envs/mxnet_p38/lib/python3.8/site-packages (from importlib-metadata<5.0,>=1.4.0->sagemaker) (3.10.0)\n",
      "Requirement already satisfied: pyparsing!=3.0.5,>=2.0.2 in /home/ec2-user/anaconda3/envs/mxnet_p38/lib/python3.8/site-packages (from packaging>=20.0->sagemaker) (3.0.9)\n",
      "Requirement already satisfied: six in /home/ec2-user/anaconda3/envs/mxnet_p38/lib/python3.8/site-packages (from protobuf3-to-dict<1.0,>=0.1.5->sagemaker) (1.16.0)\n",
      "Requirement already satisfied: pyasn1>=0.1.3 in /home/ec2-user/anaconda3/envs/mxnet_p38/lib/python3.8/site-packages (from rsa<4.8,>=3.1.2->awscli) (0.4.8)\n",
      "Requirement already satisfied: pytz>=2020.1 in /home/ec2-user/anaconda3/envs/mxnet_p38/lib/python3.8/site-packages (from pandas->sagemaker) (2022.5)\n",
      "Requirement already satisfied: ppft>=1.7.6.6 in /home/ec2-user/anaconda3/envs/mxnet_p38/lib/python3.8/site-packages (from pathos->sagemaker) (1.7.6.6)\n",
      "Requirement already satisfied: dill>=0.3.6 in /home/ec2-user/anaconda3/envs/mxnet_p38/lib/python3.8/site-packages (from pathos->sagemaker) (0.3.6)\n",
      "Requirement already satisfied: multiprocess>=0.70.14 in /home/ec2-user/anaconda3/envs/mxnet_p38/lib/python3.8/site-packages (from pathos->sagemaker) (0.70.14)\n",
      "Requirement already satisfied: pox>=0.3.2 in /home/ec2-user/anaconda3/envs/mxnet_p38/lib/python3.8/site-packages (from pathos->sagemaker) (0.3.2)\n",
      "Requirement already satisfied: contextlib2>=0.5.5 in /home/ec2-user/anaconda3/envs/mxnet_p38/lib/python3.8/site-packages (from schema->sagemaker) (21.6.0)\n",
      "Building wheels for collected packages: sagemaker\n",
      "  Building wheel for sagemaker (setup.py) ... \u001b[?25ldone\n",
      "\u001b[?25h  Created wheel for sagemaker: filename=sagemaker-2.129.0-py2.py3-none-any.whl size=897208 sha256=f4eb85012494a4a95e9ad9cf418920911cc3317437af322d0d14779208a881d2\n",
      "  Stored in directory: /home/ec2-user/.cache/pip/wheels/84/3a/b2/319c1a71b30ae2104794df12e28c53426110a2bb9c973f9a5d\n",
      "Successfully built sagemaker\n",
      "Installing collected packages: botocore, boto3, awscli, sagemaker\n",
      "  Attempting uninstall: botocore\n",
      "    Found existing installation: botocore 1.29.44\n",
      "    Uninstalling botocore-1.29.44:\n",
      "      Successfully uninstalled botocore-1.29.44\n",
      "  Attempting uninstall: boto3\n",
      "    Found existing installation: boto3 1.26.44\n",
      "    Uninstalling boto3-1.26.44:\n",
      "      Successfully uninstalled boto3-1.26.44\n",
      "  Attempting uninstall: awscli\n",
      "    Found existing installation: awscli 1.27.44\n",
      "    Uninstalling awscli-1.27.44:\n",
      "      Successfully uninstalled awscli-1.27.44\n",
      "  Attempting uninstall: sagemaker\n",
      "    Found existing installation: sagemaker 2.127.0\n",
      "    Uninstalling sagemaker-2.127.0:\n",
      "      Successfully uninstalled sagemaker-2.127.0\n",
      "Successfully installed awscli-1.27.56 boto3-1.26.56 botocore-1.29.56 sagemaker-2.129.0\n"
     ]
    }
   ],
   "source": [
    "!pip install sagemaker botocore boto3 awscli --upgrade"
   ]
  },
  {
   "cell_type": "code",
   "execution_count": 3,
   "id": "7d579829-f942-4a4b-86f2-32a5e7df1097",
   "metadata": {},
   "outputs": [],
   "source": [
    "BASE_NAME = \"chpater-sum-gpt3\"\n",
    "SERVE_IMG_URI = \"957269117416.dkr.ecr.eu-central-1.amazonaws.com/chapter-sum-gpt3:latest\""
   ]
  },
  {
   "cell_type": "markdown",
   "id": "bea93378-2031-4b1a-b71b-02614813342f",
   "metadata": {},
   "source": [
    "## Define role, model name, and endpoint name"
   ]
  },
  {
   "cell_type": "code",
   "execution_count": 4,
   "id": "767f1ebc-079a-45bc-8106-6429375cc7a2",
   "metadata": {},
   "outputs": [
    {
     "name": "stdout",
     "output_type": "stream",
     "text": [
      "Model name: chpater-sum-gpt3-model\n",
      "Endpoint name: chpater-sum-gpt3-endpoint\n",
      "Image URI: 957269117416.dkr.ecr.eu-central-1.amazonaws.com/chapter-sum-gpt3:latest\n",
      "Role: arn:aws:iam::957269117416:role/service-role/AmazonSageMaker-ExecutionRole-20230121T194089\n"
     ]
    }
   ],
   "source": [
    "import boto3\n",
    "import sagemaker\n",
    "from sagemaker import Session\n",
    "from sagemaker.model import Model\n",
    "from sagemaker.predictor import Predictor\n",
    "from sagemaker.serializers import JSONSerializer\n",
    "\n",
    "sagemaker_role = sagemaker.get_execution_role()\n",
    "\n",
    "model_name = f\"{BASE_NAME}-model\"\n",
    "endpoint_name = f\"{BASE_NAME}-endpoint\"\n",
    "print(f\"Model name: {model_name}\")\n",
    "print(f\"Endpoint name: {endpoint_name}\")\n",
    "print(f\"Image URI: {SERVE_IMG_URI}\")\n",
    "print(f\"Role: {sagemaker_role}\")"
   ]
  },
  {
   "cell_type": "markdown",
   "id": "f2fb5a1f-65c8-48c3-90f7-26c7ab92e455",
   "metadata": {},
   "source": [
    "## Create a SageMaker model, serverless config, and serverless endpoint"
   ]
  },
  {
   "cell_type": "code",
   "execution_count": 6,
   "id": "47d6e788-ba79-4608-98dd-2fba7c9a3814",
   "metadata": {},
   "outputs": [
    {
     "name": "stdout",
     "output_type": "stream",
     "text": [
      "-----!\n",
      "Created model: chpater-sum-gpt3-model\n",
      "Created endpoint: chpater-sum-gpt3-endpoint\n"
     ]
    }
   ],
   "source": [
    "from sagemaker.serverless import ServerlessInferenceConfig\n",
    "\n",
    "#create a SM model using a pre-baked docker container\n",
    "summarizer_model = Model(\n",
    "    name=model_name,\n",
    "    role=sagemaker_role,\n",
    "    image_uri=SERVE_IMG_URI,\n",
    "    predictor_cls=Predictor,\n",
    ")\n",
    "\n",
    "# Specify MemorySizeInMB and MaxConcurrency in the serverless config object\n",
    "serverless_config = ServerlessInferenceConfig(\n",
    "  memory_size_in_mb=2048,\n",
    "  max_concurrency=2,\n",
    ")\n",
    "\n",
    "# create an endpoint config and endpoint.\n",
    "serverless_predictor = summarizer_model.deploy(\n",
    "    endpoint_name=endpoint_name,\n",
    "    serializer=JSONSerializer(),\n",
    "    serverless_inference_config=serverless_config\n",
    ")\n",
    "\n",
    "print(f\"\\nCreated model: {summarizer_model.name}\")\n",
    "print(f\"Created endpoint: {serverless_predictor.endpoint_name}\")"
   ]
  },
  {
   "cell_type": "markdown",
   "id": "fed1544b-b6e3-4e10-bc13-6e984789cd24",
   "metadata": {},
   "source": [
    "## Getting prediction from an endpoint"
   ]
  },
  {
   "cell_type": "code",
   "execution_count": 10,
   "id": "e71c4daa-925a-44bc-91eb-efb7ce7098ca",
   "metadata": {},
   "outputs": [
    {
     "name": "stdout",
     "output_type": "stream",
     "text": [
      "Summary:\n",
      ": Alice follows a White Rabbit into a rabbit-hole, and falls down a deep well. She is eventually rescued by a mouse, sees a beautiful garden, and finally escapes from the hall by unlocking a door with a key she finds on a small glass table. \n",
      "\n",
      "Alice found a key and a bottle of wine on her way to the little door, but she got lost trying to find the right way to shut it. She ate a cake to make herself grow, but didn't grow at all.\n"
     ]
    }
   ],
   "source": [
    "import json\n",
    "\n",
    "sm_runtime= boto3.client('runtime.sagemaker')\n",
    "input_path = \"/home/ec2-user/SageMaker/chapter_summarization_api/src/summarizer/resources/chapter/01.txt\"\n",
    "\n",
    "with open(input_path, \"r\") as fp:\n",
    "    long_text = fp.read()\n",
    "    \n",
    "    payload_json = json.dumps({'text': long_text})\n",
    "\n",
    "    response = sm_runtime.invoke_endpoint(\n",
    "        EndpointName=endpoint_name, \n",
    "        Body=payload_json.encode('utf-8'), \n",
    "        ContentType=\"application/json\",\n",
    "        Accept=\"application/json\"\n",
    "    )\n",
    "\n",
    "    response_body = response['Body'].read().decode('utf-8')\n",
    "    summary_text = json.loads(response_body)[\"summary\"]\n",
    "    print(f\"Summary:\\n{summary_text}\")"
   ]
  },
  {
   "cell_type": "markdown",
   "id": "e4421838-a588-4ad8-b61e-624b358ecf20",
   "metadata": {},
   "source": [
    "## Clean up Resources"
   ]
  },
  {
   "cell_type": "code",
   "execution_count": 5,
   "id": "ca752f74-d76a-4df8-afeb-944548452a51",
   "metadata": {},
   "outputs": [
    {
     "name": "stdout",
     "output_type": "stream",
     "text": [
      "Delete endpoint response: {'ResponseMetadata': {'RequestId': '728ebb45-350c-478d-aeee-1a7b539fb093', 'HTTPStatusCode': 200, 'HTTPHeaders': {'x-amzn-requestid': '728ebb45-350c-478d-aeee-1a7b539fb093', 'content-type': 'application/x-amz-json-1.1', 'content-length': '0', 'date': 'Wed, 25 Jan 2023 02:35:16 GMT'}, 'RetryAttempts': 0}}\n",
      "Delete endpoint configuration response: {'ResponseMetadata': {'RequestId': 'b7c2a294-579c-49f9-ae37-bc2ec2acea55', 'HTTPStatusCode': 200, 'HTTPHeaders': {'x-amzn-requestid': 'b7c2a294-579c-49f9-ae37-bc2ec2acea55', 'content-type': 'application/x-amz-json-1.1', 'content-length': '0', 'date': 'Wed, 25 Jan 2023 02:35:16 GMT'}, 'RetryAttempts': 0}}\n",
      "Delete model response: {'ResponseMetadata': {'RequestId': '04ce7c05-3358-413b-839b-10bd04e74f54', 'HTTPStatusCode': 200, 'HTTPHeaders': {'x-amzn-requestid': '04ce7c05-3358-413b-839b-10bd04e74f54', 'content-type': 'application/x-amz-json-1.1', 'content-length': '0', 'date': 'Wed, 25 Jan 2023 02:35:16 GMT'}, 'RetryAttempts': 0}}\n"
     ]
    }
   ],
   "source": [
    "sm = boto3.client(\"sagemaker\")\n",
    "\n",
    "response = sm.delete_endpoint(EndpointName=endpoint_name)\n",
    "print(f\"Delete endpoint response: {response}\")\n",
    "\n",
    "response = sm.delete_endpoint_config(EndpointConfigName=endpoint_name)\n",
    "print(f\"Delete endpoint configuration response: {response}\")\n",
    "\n",
    "response = sm.delete_model(ModelName=model_name)\n",
    "print(f\"Delete model response: {response}\")"
   ]
  },
  {
   "cell_type": "code",
   "execution_count": 1,
   "id": "06ea71a7-3fe6-417c-a1d0-a0330a2e6f50",
   "metadata": {},
   "outputs": [
    {
     "name": "stdout",
     "output_type": "stream",
     "text": [
      "Python 3.8.13\n"
     ]
    }
   ],
   "source": [
    "!python --version"
   ]
  },
  {
   "cell_type": "code",
   "execution_count": null,
   "id": "96df1395-0bb6-43ae-9210-68c174f581a5",
   "metadata": {},
   "outputs": [],
   "source": []
  }
 ],
 "metadata": {
  "kernelspec": {
   "display_name": "conda_mxnet_p38",
   "language": "python",
   "name": "conda_mxnet_p38"
  },
  "language_info": {
   "codemirror_mode": {
    "name": "ipython",
    "version": 3
   },
   "file_extension": ".py",
   "mimetype": "text/x-python",
   "name": "python",
   "nbconvert_exporter": "python",
   "pygments_lexer": "ipython3",
   "version": "3.8.13"
  }
 },
 "nbformat": 4,
 "nbformat_minor": 5
}
