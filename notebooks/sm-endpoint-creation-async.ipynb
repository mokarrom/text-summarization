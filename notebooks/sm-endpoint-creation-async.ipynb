{
 "cells": [
  {
   "cell_type": "markdown",
   "id": "56bb9e26-0666-4829-8d14-135c48bd1854",
   "metadata": {},
   "source": [
    "# Chapter Summarizer Inference\n",
    "Create a serverless endoint using a pre-baked docker container."
   ]
  },
  {
   "cell_type": "code",
   "execution_count": 1,
   "id": "a91f0a14-70a1-48d8-bbed-241347cb1bd0",
   "metadata": {
    "tags": []
   },
   "outputs": [
    {
     "name": "stdout",
     "output_type": "stream",
     "text": [
      "Looking in indexes: https://pypi.org/simple, https://pip.repos.neuron.amazonaws.com\n",
      "Requirement already satisfied: sagemaker in /home/ec2-user/anaconda3/envs/mxnet_p38/lib/python3.8/site-packages (2.132.0)\n",
      "Collecting sagemaker\n",
      "  Downloading sagemaker-2.153.0.tar.gz (751 kB)\n",
      "\u001b[2K     \u001b[90m━━━━━━━━━━━━━━━━━━━━━━━━━━━━━━━━━━━━━━\u001b[0m \u001b[32m751.7/751.7 kB\u001b[0m \u001b[31m19.9 MB/s\u001b[0m eta \u001b[36m0:00:00\u001b[0m00:01\u001b[0m\n",
      "\u001b[?25h  Preparing metadata (setup.py) ... \u001b[?25ldone\n",
      "\u001b[?25hRequirement already satisfied: botocore in /home/ec2-user/anaconda3/envs/mxnet_p38/lib/python3.8/site-packages (1.29.71)\n",
      "Collecting botocore\n",
      "  Downloading botocore-1.29.131-py3-none-any.whl (10.7 MB)\n",
      "\u001b[2K     \u001b[90m━━━━━━━━━━━━━━━━━━━━━━━━━━━━━━━━━━━━━━━━\u001b[0m \u001b[32m10.7/10.7 MB\u001b[0m \u001b[31m31.4 MB/s\u001b[0m eta \u001b[36m0:00:00\u001b[0m00:01\u001b[0m0:01\u001b[0m\n",
      "\u001b[?25hRequirement already satisfied: boto3 in /home/ec2-user/anaconda3/envs/mxnet_p38/lib/python3.8/site-packages (1.26.71)\n",
      "Collecting boto3\n",
      "  Downloading boto3-1.26.131-py3-none-any.whl (135 kB)\n",
      "\u001b[2K     \u001b[90m━━━━━━━━━━━━━━━━━━━━━━━━━━━━━━━━━━━━━━\u001b[0m \u001b[32m135.6/135.6 kB\u001b[0m \u001b[31m29.3 MB/s\u001b[0m eta \u001b[36m0:00:00\u001b[0m\n",
      "\u001b[?25hRequirement already satisfied: awscli in /home/ec2-user/anaconda3/envs/mxnet_p38/lib/python3.8/site-packages (1.27.71)\n",
      "Collecting awscli\n",
      "  Downloading awscli-1.27.131-py3-none-any.whl (4.1 MB)\n",
      "\u001b[2K     \u001b[90m━━━━━━━━━━━━━━━━━━━━━━━━━━━━━━━━━━━━━━━━\u001b[0m \u001b[32m4.1/4.1 MB\u001b[0m \u001b[31m15.5 MB/s\u001b[0m eta \u001b[36m0:00:00\u001b[0m00:01\u001b[0m00:01\u001b[0m\n",
      "\u001b[?25hRequirement already satisfied: attrs<23,>=20.3.0 in /home/ec2-user/anaconda3/envs/mxnet_p38/lib/python3.8/site-packages (from sagemaker) (22.2.0)\n",
      "Collecting cloudpickle==2.2.1\n",
      "  Downloading cloudpickle-2.2.1-py3-none-any.whl (25 kB)\n",
      "Requirement already satisfied: google-pasta in /home/ec2-user/anaconda3/envs/mxnet_p38/lib/python3.8/site-packages (from sagemaker) (0.2.0)\n",
      "Requirement already satisfied: numpy<2.0,>=1.9.0 in /home/ec2-user/anaconda3/envs/mxnet_p38/lib/python3.8/site-packages (from sagemaker) (1.22.3)\n",
      "Requirement already satisfied: protobuf<4.0,>=3.1 in /home/ec2-user/anaconda3/envs/mxnet_p38/lib/python3.8/site-packages (from sagemaker) (3.20.2)\n",
      "Requirement already satisfied: protobuf3-to-dict<1.0,>=0.1.5 in /home/ec2-user/anaconda3/envs/mxnet_p38/lib/python3.8/site-packages (from sagemaker) (0.1.5)\n",
      "Requirement already satisfied: smdebug_rulesconfig==1.0.1 in /home/ec2-user/anaconda3/envs/mxnet_p38/lib/python3.8/site-packages (from sagemaker) (1.0.1)\n",
      "Requirement already satisfied: importlib-metadata<5.0,>=1.4.0 in /home/ec2-user/anaconda3/envs/mxnet_p38/lib/python3.8/site-packages (from sagemaker) (4.13.0)\n",
      "Requirement already satisfied: packaging>=20.0 in /home/ec2-user/anaconda3/envs/mxnet_p38/lib/python3.8/site-packages (from sagemaker) (21.3)\n",
      "Requirement already satisfied: pandas in /home/ec2-user/anaconda3/envs/mxnet_p38/lib/python3.8/site-packages (from sagemaker) (1.4.4)\n",
      "Requirement already satisfied: pathos in /home/ec2-user/anaconda3/envs/mxnet_p38/lib/python3.8/site-packages (from sagemaker) (0.3.0)\n",
      "Requirement already satisfied: schema in /home/ec2-user/anaconda3/envs/mxnet_p38/lib/python3.8/site-packages (from sagemaker) (0.7.5)\n",
      "Requirement already satisfied: PyYAML==5.4.1 in /home/ec2-user/anaconda3/envs/mxnet_p38/lib/python3.8/site-packages (from sagemaker) (5.4.1)\n",
      "Requirement already satisfied: jsonschema in /home/ec2-user/anaconda3/envs/mxnet_p38/lib/python3.8/site-packages (from sagemaker) (3.2.0)\n",
      "Requirement already satisfied: platformdirs in /home/ec2-user/anaconda3/envs/mxnet_p38/lib/python3.8/site-packages (from sagemaker) (2.6.2)\n",
      "Requirement already satisfied: tblib==1.7.0 in /home/ec2-user/anaconda3/envs/mxnet_p38/lib/python3.8/site-packages (from sagemaker) (1.7.0)\n",
      "Requirement already satisfied: python-dateutil<3.0.0,>=2.1 in /home/ec2-user/anaconda3/envs/mxnet_p38/lib/python3.8/site-packages (from botocore) (2.8.2)\n",
      "Requirement already satisfied: urllib3<1.27,>=1.25.4 in /home/ec2-user/anaconda3/envs/mxnet_p38/lib/python3.8/site-packages (from botocore) (1.26.8)\n",
      "Requirement already satisfied: jmespath<2.0.0,>=0.7.1 in /home/ec2-user/anaconda3/envs/mxnet_p38/lib/python3.8/site-packages (from botocore) (1.0.1)\n",
      "Requirement already satisfied: s3transfer<0.7.0,>=0.6.0 in /home/ec2-user/anaconda3/envs/mxnet_p38/lib/python3.8/site-packages (from boto3) (0.6.0)\n",
      "Requirement already satisfied: rsa<4.8,>=3.1.2 in /home/ec2-user/anaconda3/envs/mxnet_p38/lib/python3.8/site-packages (from awscli) (4.7.2)\n",
      "Requirement already satisfied: docutils<0.17,>=0.10 in /home/ec2-user/anaconda3/envs/mxnet_p38/lib/python3.8/site-packages (from awscli) (0.15.2)\n",
      "Requirement already satisfied: colorama<0.4.5,>=0.2.5 in /home/ec2-user/anaconda3/envs/mxnet_p38/lib/python3.8/site-packages (from awscli) (0.4.3)\n",
      "Requirement already satisfied: zipp>=0.5 in /home/ec2-user/anaconda3/envs/mxnet_p38/lib/python3.8/site-packages (from importlib-metadata<5.0,>=1.4.0->sagemaker) (3.11.0)\n",
      "Requirement already satisfied: pyparsing!=3.0.5,>=2.0.2 in /home/ec2-user/anaconda3/envs/mxnet_p38/lib/python3.8/site-packages (from packaging>=20.0->sagemaker) (3.0.9)\n",
      "Requirement already satisfied: six in /home/ec2-user/anaconda3/envs/mxnet_p38/lib/python3.8/site-packages (from protobuf3-to-dict<1.0,>=0.1.5->sagemaker) (1.16.0)\n",
      "Requirement already satisfied: pyasn1>=0.1.3 in /home/ec2-user/anaconda3/envs/mxnet_p38/lib/python3.8/site-packages (from rsa<4.8,>=3.1.2->awscli) (0.4.8)\n",
      "Requirement already satisfied: setuptools in /home/ec2-user/anaconda3/envs/mxnet_p38/lib/python3.8/site-packages (from jsonschema->sagemaker) (65.6.3)\n",
      "Requirement already satisfied: pyrsistent>=0.14.0 in /home/ec2-user/anaconda3/envs/mxnet_p38/lib/python3.8/site-packages (from jsonschema->sagemaker) (0.19.3)\n",
      "Requirement already satisfied: pytz>=2020.1 in /home/ec2-user/anaconda3/envs/mxnet_p38/lib/python3.8/site-packages (from pandas->sagemaker) (2022.7)\n",
      "Requirement already satisfied: multiprocess>=0.70.14 in /home/ec2-user/anaconda3/envs/mxnet_p38/lib/python3.8/site-packages (from pathos->sagemaker) (0.70.14)\n",
      "Requirement already satisfied: pox>=0.3.2 in /home/ec2-user/anaconda3/envs/mxnet_p38/lib/python3.8/site-packages (from pathos->sagemaker) (0.3.2)\n",
      "Requirement already satisfied: ppft>=1.7.6.6 in /home/ec2-user/anaconda3/envs/mxnet_p38/lib/python3.8/site-packages (from pathos->sagemaker) (1.7.6.6)\n",
      "Requirement already satisfied: dill>=0.3.6 in /home/ec2-user/anaconda3/envs/mxnet_p38/lib/python3.8/site-packages (from pathos->sagemaker) (0.3.6)\n",
      "Requirement already satisfied: contextlib2>=0.5.5 in /home/ec2-user/anaconda3/envs/mxnet_p38/lib/python3.8/site-packages (from schema->sagemaker) (21.6.0)\n",
      "Building wheels for collected packages: sagemaker\n",
      "  Building wheel for sagemaker (setup.py) ... \u001b[?25ldone\n",
      "\u001b[?25h  Created wheel for sagemaker: filename=sagemaker-2.153.0-py2.py3-none-any.whl size=1008105 sha256=fd88067a4d018993aedb32a60c61d285705a8d569bf6c052e9e420a2da1208a6\n",
      "  Stored in directory: /home/ec2-user/.cache/pip/wheels/47/23/63/f6bd18d7b5dbe23265e5a8d3738f00fe03db24be76a3432497\n",
      "Successfully built sagemaker\n",
      "Installing collected packages: cloudpickle, botocore, boto3, awscli, sagemaker\n",
      "  Attempting uninstall: cloudpickle\n",
      "    Found existing installation: cloudpickle 2.2.0\n",
      "    Uninstalling cloudpickle-2.2.0:\n",
      "      Successfully uninstalled cloudpickle-2.2.0\n",
      "  Attempting uninstall: botocore\n",
      "    Found existing installation: botocore 1.29.71\n",
      "    Uninstalling botocore-1.29.71:\n",
      "      Successfully uninstalled botocore-1.29.71\n",
      "  Attempting uninstall: boto3\n",
      "    Found existing installation: boto3 1.26.71\n",
      "    Uninstalling boto3-1.26.71:\n",
      "      Successfully uninstalled boto3-1.26.71\n",
      "  Attempting uninstall: awscli\n",
      "    Found existing installation: awscli 1.27.71\n",
      "    Uninstalling awscli-1.27.71:\n",
      "      Successfully uninstalled awscli-1.27.71\n",
      "  Attempting uninstall: sagemaker\n",
      "    Found existing installation: sagemaker 2.132.0\n",
      "    Uninstalling sagemaker-2.132.0:\n",
      "      Successfully uninstalled sagemaker-2.132.0\n",
      "\u001b[31mERROR: pip's dependency resolver does not currently take into account all the packages that are installed. This behaviour is the source of the following dependency conflicts.\n",
      "distributed 2022.11.0 requires tornado<6.2,>=6.0.3, but you have tornado 6.2 which is incompatible.\u001b[0m\u001b[31m\n",
      "\u001b[0mSuccessfully installed awscli-1.27.131 boto3-1.26.131 botocore-1.29.131 cloudpickle-2.2.1 sagemaker-2.153.0\n"
     ]
    }
   ],
   "source": [
    "!pip install sagemaker botocore boto3 awscli --upgrade"
   ]
  },
  {
   "cell_type": "code",
   "execution_count": 2,
   "id": "7d579829-f942-4a4b-86f2-32a5e7df1097",
   "metadata": {
    "tags": []
   },
   "outputs": [],
   "source": [
    "BASE_NAME = \"gpt-book-sum\"\n",
    "AWS_REGION = \"eu-central-1\"\n",
    "INSTANCE_TYPE = \"ml.m5.large\"\n",
    "INITIAL_INSTANCE_COUNT = 1\n",
    "SERVE_IMG_URI = \"957269117416.dkr.ecr.eu-central-1.amazonaws.com/chapter-sum-gpt3:latest\"\n",
    "S3_SUCCESS_URI = \"s3://chapter-summarization/book-sum-async-inference/output/success/\"\n",
    "S3_FAILURE_URI = \"s3://chapter-summarization/book-sum-async-inference/output/failure/\""
   ]
  },
  {
   "cell_type": "markdown",
   "id": "bea93378-2031-4b1a-b71b-02614813342f",
   "metadata": {},
   "source": [
    "## Define role, model name, and endpoint name"
   ]
  },
  {
   "cell_type": "code",
   "execution_count": 3,
   "id": "767f1ebc-079a-45bc-8106-6429375cc7a2",
   "metadata": {
    "tags": []
   },
   "outputs": [
    {
     "name": "stdout",
     "output_type": "stream",
     "text": [
      "Model name: gpt-book-sum-model\n",
      "Endpoint name: gpt-book-sum-endpoint\n",
      "Endpoint config name: gpt-book-sum-endpoint-config\n",
      "Image URI: 957269117416.dkr.ecr.eu-central-1.amazonaws.com/chapter-sum-gpt3:latest\n",
      "Role: arn:aws:iam::957269117416:role/service-role/AmazonSageMaker-ExecutionRole-20230121T194089\n",
      "Resource ID: endpoint/gpt-book-sum-endpoint/variant/variant1\n"
     ]
    }
   ],
   "source": [
    "import boto3\n",
    "import sagemaker\n",
    "from sagemaker import Session\n",
    "from sagemaker.model import Model\n",
    "from sagemaker.predictor import Predictor\n",
    "from sagemaker.serializers import JSONSerializer\n",
    "\n",
    "sagemaker_role = sagemaker.get_execution_role()\n",
    "\n",
    "model_name = f\"{BASE_NAME}-model\"\n",
    "endpoint_name = f\"{BASE_NAME}-endpoint\"\n",
    "endpoint_config_name = f\"{BASE_NAME}-endpoint-config\"\n",
    "resource_id=\"endpoint/\" + endpoint_name + \"/variant/variant1\"\n",
    "print(f\"Model name: {model_name}\")\n",
    "print(f\"Endpoint name: {endpoint_name}\")\n",
    "print(f\"Endpoint config name: {endpoint_config_name}\")\n",
    "print(f\"Image URI: {SERVE_IMG_URI}\")\n",
    "print(f\"Role: {sagemaker_role}\")\n",
    "print(f\"Resource ID: {resource_id}\")"
   ]
  },
  {
   "cell_type": "markdown",
   "id": "f2fb5a1f-65c8-48c3-90f7-26c7ab92e455",
   "metadata": {},
   "source": [
    "## Create a SageMaker model, serverless config, and serverless endpoint"
   ]
  },
  {
   "cell_type": "markdown",
   "id": "7bc916bd-dd65-4dff-b0ac-8b9d39a4b0a4",
   "metadata": {},
   "source": [
    "### Create a SageMaker Model"
   ]
  },
  {
   "cell_type": "code",
   "execution_count": 6,
   "id": "47d6e788-ba79-4608-98dd-2fba7c9a3814",
   "metadata": {
    "tags": []
   },
   "outputs": [
    {
     "name": "stdout",
     "output_type": "stream",
     "text": [
      "Created Model: arn:aws:sagemaker:eu-central-1:957269117416:model/gpt-book-sum-model\n"
     ]
    }
   ],
   "source": [
    "sagemaker_client = boto3.client('sagemaker', region_name=AWS_REGION)\n",
    "\n",
    "#create a SM model using a pre-baked docker container\n",
    "create_model_response = sagemaker_client.create_model(\n",
    "    ModelName = model_name,\n",
    "    ExecutionRoleArn = sagemaker_role,\n",
    "    PrimaryContainer = {\n",
    "        'Image': SERVE_IMG_URI,\n",
    "    }\n",
    ")\n",
    "print(f\"Created Model: {create_model_response['ModelArn']}\")"
   ]
  },
  {
   "cell_type": "markdown",
   "id": "1ec45bb2-5efa-485e-8ef5-5f29378a8572",
   "metadata": {},
   "source": [
    "### Create an EndpointConfig"
   ]
  },
  {
   "cell_type": "code",
   "execution_count": 7,
   "id": "3551387d-ab73-4386-9537-b78405fad86a",
   "metadata": {
    "tags": []
   },
   "outputs": [
    {
     "name": "stdout",
     "output_type": "stream",
     "text": [
      "Created EndpointConfig: arn:aws:sagemaker:eu-central-1:957269117416:endpoint-config/gpt-book-sum-endpoint-config\n"
     ]
    }
   ],
   "source": [
    "create_endpoint_config_response = sagemaker_client.create_endpoint_config(\n",
    "    EndpointConfigName=endpoint_config_name, # You will specify this name in a CreateEndpoint request.\n",
    "    # List of ProductionVariant objects, one for each model that you want to host at this endpoint.\n",
    "    ProductionVariants=[\n",
    "        {\n",
    "            \"VariantName\": \"variant1\", # The name of the production variant.\n",
    "            \"ModelName\": model_name, \n",
    "            \"InstanceType\": INSTANCE_TYPE, # Specify the compute instance type.\n",
    "            \"InitialInstanceCount\": INITIAL_INSTANCE_COUNT # Number of instances to launch initially.\n",
    "        }\n",
    "    ],\n",
    "    AsyncInferenceConfig={\n",
    "        \"OutputConfig\": {\n",
    "            # Location to upload response outputs when no location is provided in the request.\n",
    "            \"S3OutputPath\": S3_SUCCESS_URI,\n",
    "            \"S3FailurePath\": S3_FAILURE_URI\n",
    "            # # (Optional) specify Amazon SNS topics\n",
    "            # \"NotificationConfig\": {\n",
    "            #     \"SuccessTopic\": \"arn:aws:sns:aws-region:account-id:topic-name\",\n",
    "            #     \"ErrorTopic\": \"arn:aws:sns:aws-region:account-id:topic-name\",\n",
    "            # }\n",
    "        },\n",
    "        \"ClientConfig\": {\n",
    "            # (Optional) Specify the max number of inflight invocations per instance\n",
    "            # If no value is provided, Amazon SageMaker will choose an optimal value for you\n",
    "            \"MaxConcurrentInvocationsPerInstance\": 2\n",
    "        }\n",
    "    }\n",
    ")\n",
    "print(f\"Created EndpointConfig: {create_endpoint_config_response['EndpointConfigArn']}\")"
   ]
  },
  {
   "cell_type": "markdown",
   "id": "6126709d-74be-4139-a3ee-310864e550aa",
   "metadata": {},
   "source": [
    "### Create an Endpoint"
   ]
  },
  {
   "cell_type": "code",
   "execution_count": 8,
   "id": "9f241afa-165e-44dd-959f-9f59c6a2aae4",
   "metadata": {
    "tags": []
   },
   "outputs": [
    {
     "name": "stdout",
     "output_type": "stream",
     "text": [
      "Created Endpoint: arn:aws:sagemaker:eu-central-1:957269117416:endpoint/gpt-book-sum-endpoint\n"
     ]
    }
   ],
   "source": [
    "create_endpoint_response = sagemaker_client.create_endpoint(\n",
    "    EndpointName=endpoint_name, \n",
    "    EndpointConfigName=endpoint_config_name\n",
    ")\n",
    "print(f\"Created Endpoint: {create_endpoint_response['EndpointArn']}\")"
   ]
  },
  {
   "cell_type": "markdown",
   "id": "460e9565-709c-4bc3-90e6-ef94ab13be58",
   "metadata": {},
   "source": [
    "Validate that the endpoint is created before invoking it:"
   ]
  },
  {
   "cell_type": "code",
   "execution_count": 9,
   "id": "46253836-fbd8-4be7-bdad-058b60310c01",
   "metadata": {
    "tags": []
   },
   "outputs": [
    {
     "name": "stdout",
     "output_type": "stream",
     "text": [
      "Waiting for endpoint to create...\n",
      "Endpoint Status: InService\n"
     ]
    }
   ],
   "source": [
    "waiter = sagemaker_client.get_waiter(\"endpoint_in_service\")\n",
    "print(\"Waiting for endpoint to create...\")\n",
    "waiter.wait(EndpointName=endpoint_name)\n",
    "resp = sagemaker_client.describe_endpoint(EndpointName=endpoint_name)\n",
    "print(f\"Endpoint Status: {resp['EndpointStatus']}\")"
   ]
  },
  {
   "cell_type": "markdown",
   "id": "733717ab-249d-448d-ad14-4c448ec284f3",
   "metadata": {},
   "source": [
    "## Scaling policy that scales to zero"
   ]
  },
  {
   "cell_type": "code",
   "execution_count": 10,
   "id": "3ca9a660-6562-4a28-aade-816d05176b77",
   "metadata": {
    "tags": []
   },
   "outputs": [
    {
     "data": {
      "text/plain": [
       "{'ScalableTargetARN': 'arn:aws:application-autoscaling:eu-central-1:957269117416:scalable-target/056m2544763e303143fb9d6c4143004e7ae3',\n",
       " 'ResponseMetadata': {'RequestId': '8d594deb-cc2a-4416-a3d6-2e5ec139817c',\n",
       "  'HTTPStatusCode': 200,\n",
       "  'HTTPHeaders': {'x-amzn-requestid': '8d594deb-cc2a-4416-a3d6-2e5ec139817c',\n",
       "   'content-type': 'application/x-amz-json-1.1',\n",
       "   'content-length': '134',\n",
       "   'date': 'Wed, 10 May 2023 13:28:12 GMT'},\n",
       "  'RetryAttempts': 0}}"
      ]
     },
     "execution_count": 10,
     "metadata": {},
     "output_type": "execute_result"
    }
   ],
   "source": [
    "# Common class representing application autoscaling for SageMaker \n",
    "as_client = boto3.client('application-autoscaling') \n",
    "\n",
    "# Define and register your endpoint variant\n",
    "response = as_client.register_scalable_target(\n",
    "    ServiceNamespace='sagemaker', \n",
    "    ResourceId=resource_id,\n",
    "    ScalableDimension='sagemaker:variant:DesiredInstanceCount', # The number of EC2 instances for your Amazon SageMaker model endpoint variant.\n",
    "    MinCapacity=0,\n",
    "    MaxCapacity=3\n",
    ")\n",
    "response"
   ]
  },
  {
   "cell_type": "markdown",
   "id": "2c268c74-35e4-49b4-b26a-c8bd01f9f3cd",
   "metadata": {},
   "source": [
    "## DescribeScalableTargets"
   ]
  },
  {
   "cell_type": "code",
   "execution_count": 11,
   "id": "ed7f2e91-f6a6-444f-a2d5-2e31d517a597",
   "metadata": {
    "tags": []
   },
   "outputs": [
    {
     "data": {
      "text/plain": [
       "{'ScalableTargets': [{'ServiceNamespace': 'sagemaker',\n",
       "   'ResourceId': 'endpoint/gpt-book-sum-endpoint/variant/variant1',\n",
       "   'ScalableDimension': 'sagemaker:variant:DesiredInstanceCount',\n",
       "   'MinCapacity': 0,\n",
       "   'MaxCapacity': 3,\n",
       "   'RoleARN': 'arn:aws:iam::957269117416:role/aws-service-role/sagemaker.application-autoscaling.amazonaws.com/AWSServiceRoleForApplicationAutoScaling_SageMakerEndpoint',\n",
       "   'CreationTime': datetime.datetime(2023, 5, 10, 13, 28, 12, 847000, tzinfo=tzlocal()),\n",
       "   'SuspendedState': {'DynamicScalingInSuspended': False,\n",
       "    'DynamicScalingOutSuspended': False,\n",
       "    'ScheduledScalingSuspended': False},\n",
       "   'ScalableTargetARN': 'arn:aws:application-autoscaling:eu-central-1:957269117416:scalable-target/056m2544763e303143fb9d6c4143004e7ae3'}],\n",
       " 'ResponseMetadata': {'RequestId': '1ed8d86e-7274-486f-81a9-8d59ed4c31d4',\n",
       "  'HTTPStatusCode': 200,\n",
       "  'HTTPHeaders': {'x-amzn-requestid': '1ed8d86e-7274-486f-81a9-8d59ed4c31d4',\n",
       "   'content-type': 'application/x-amz-json-1.1',\n",
       "   'content-length': '663',\n",
       "   'date': 'Wed, 10 May 2023 13:28:14 GMT'},\n",
       "  'RetryAttempts': 0}}"
      ]
     },
     "execution_count": 11,
     "metadata": {},
     "output_type": "execute_result"
    }
   ],
   "source": [
    "resp = as_client.describe_scalable_targets(\n",
    "    ServiceNamespace='sagemaker',\n",
    ")\n",
    "resp"
   ]
  },
  {
   "cell_type": "markdown",
   "id": "605f92dd-9920-49d0-852e-f49ebe49d186",
   "metadata": {},
   "source": [
    "## Scaling policy to scale out when we have target queue backlog\n",
    "https://aws.amazon.com/blogs/machine-learning/run-computer-vision-inference-on-large-videos-with-amazon-sagemaker-asynchronous-endpoints/"
   ]
  },
  {
   "cell_type": "code",
   "execution_count": 12,
   "id": "edf6ec16-8c44-4586-be0f-a97146f70999",
   "metadata": {
    "tags": []
   },
   "outputs": [],
   "source": [
    "response = as_client.put_scaling_policy(\n",
    "    PolicyName=\"Invocations-ScalingPolicy\",\n",
    "    ServiceNamespace=\"sagemaker\",  # The namespace of the AWS service that provides the resource.\n",
    "    ResourceId=resource_id,  # Endpoint name\n",
    "    ScalableDimension=\"sagemaker:variant:DesiredInstanceCount\",  # SageMaker supports only Instance Count\n",
    "    PolicyType=\"TargetTrackingScaling\",  # 'StepScaling'|'TargetTrackingScaling'\n",
    "    TargetTrackingScalingPolicyConfiguration={\n",
    "        \"TargetValue\": 5.0,  # The target value for the metric. - here the metric is - SageMakerVariantInvocationsPerInstance\n",
    "        \"CustomizedMetricSpecification\": {\n",
    "            \"MetricName\": \"ApproximateBacklogSizePerInstance\",\n",
    "            \"Namespace\": \"AWS/SageMaker\",\n",
    "            \"Dimensions\": [{\"Name\": \"EndpointName\", \"Value\": endpoint_name}],\n",
    "            \"Statistic\": \"Average\",\n",
    "        },\n",
    "        \"ScaleInCooldown\": 600,  # The cooldown period helps you prevent your Auto Scaling group from launching or terminating\n",
    "        # additional instances before the effects of previous activities are visible.\n",
    "        # You can configure the length of time based on your instance startup time or other application needs.\n",
    "        # ScaleInCooldown - The amount of time, in seconds, after a scale in activity completes before another scale in activity can start.\n",
    "        \"ScaleOutCooldown\": 300  # ScaleOutCooldown - The amount of time, in seconds, after a scale out activity completes before another scale out activity can start.\n",
    "        # 'DisableScaleIn': True|False - ndicates whether scale in by the target tracking policy is disabled.\n",
    "        # If the value is true , scale in is disabled and the target tracking policy won't remove capacity from the scalable resource.\n",
    "    },\n",
    ")"
   ]
  },
  {
   "cell_type": "markdown",
   "id": "ecd7bb18-b4e5-4cba-ba7e-0cca003edc35",
   "metadata": {},
   "source": [
    "## Scaling policy that scales up from zero for new requests\n",
    "https://docs.aws.amazon.com/sagemaker/latest/dg/async-inference-autoscale.html"
   ]
  },
  {
   "cell_type": "code",
   "execution_count": 13,
   "id": "6b61360a-5bd2-408e-a986-8c5887ef1bf6",
   "metadata": {
    "tags": []
   },
   "outputs": [
    {
     "data": {
      "text/plain": [
       "'arn:aws:autoscaling:eu-central-1:957269117416:scalingPolicy:2544763e-3031-43fb-9d6c-4143004e7ae3:resource/sagemaker/endpoint/gpt-book-sum-endpoint/variant/variant1:policyName/HasBacklogWithoutCapacity-ScalingPolicy'"
      ]
     },
     "execution_count": 13,
     "metadata": {},
     "output_type": "execute_result"
    }
   ],
   "source": [
    "response = as_client.put_scaling_policy(\n",
    "    PolicyName=\"HasBacklogWithoutCapacity-ScalingPolicy\",\n",
    "    ServiceNamespace=\"sagemaker\",  # The namespace of the service that provides the resource.\n",
    "    ResourceId=resource_id,  # Endpoint name\n",
    "    ScalableDimension=\"sagemaker:variant:DesiredInstanceCount\",  # SageMaker supports only Instance Count\n",
    "    PolicyType=\"StepScaling\",  # 'StepScaling' or 'TargetTrackingScaling'\n",
    "    StepScalingPolicyConfiguration={\n",
    "        \"AdjustmentType\": \"ChangeInCapacity\", # Specifies whether the ScalingAdjustment value in the StepAdjustment property is an absolute number or a percentage of the current capacity. \n",
    "        \"MetricAggregationType\": \"Average\", # The aggregation type for the CloudWatch metrics.\n",
    "        \"Cooldown\": 180, # The amount of time, in seconds, to wait for a previous scaling activity to take effect. \n",
    "        \"StepAdjustments\": # A set of adjustments that enable you to scale based on the size of the alarm breach.\n",
    "        [ \n",
    "            {\n",
    "              \"MetricIntervalLowerBound\": 0,\n",
    "              \"ScalingAdjustment\": 1\n",
    "            }\n",
    "          ]\n",
    "    },    \n",
    ")\n",
    "step_scaling_policy_arn = response['PolicyARN']\n",
    "step_scaling_policy_arn"
   ]
  },
  {
   "cell_type": "markdown",
   "id": "9688af4a-c7d7-4a1b-832b-df6094f2ffb0",
   "metadata": {},
   "source": [
    "## Setting up a CloudWatch Alarm to trigger StepScallingPolicy"
   ]
  },
  {
   "cell_type": "code",
   "execution_count": 16,
   "id": "dfdd76f5-84c0-41fc-a0c8-f90a4db07a7b",
   "metadata": {
    "tags": []
   },
   "outputs": [
    {
     "data": {
      "text/plain": [
       "{'ResponseMetadata': {'RequestId': 'f8259004-5b60-4911-93a3-5df83925b8cf',\n",
       "  'HTTPStatusCode': 200,\n",
       "  'HTTPHeaders': {'x-amzn-requestid': 'f8259004-5b60-4911-93a3-5df83925b8cf',\n",
       "   'content-type': 'text/xml',\n",
       "   'content-length': '214',\n",
       "   'date': 'Wed, 10 May 2023 14:19:37 GMT'},\n",
       "  'RetryAttempts': 0}}"
      ]
     },
     "execution_count": 16,
     "metadata": {},
     "output_type": "execute_result"
    }
   ],
   "source": [
    "cw_client = boto3.client('cloudwatch')\n",
    "\n",
    "response = cw_client.put_metric_alarm(\n",
    "    AlarmName=\"BookSum-StepScallingPolicy-Alarm\",\n",
    "    MetricName='HasBacklogWithoutCapacity',\n",
    "    Namespace='AWS/SageMaker',\n",
    "    Statistic='Average',\n",
    "    EvaluationPeriods= 2,\n",
    "    DatapointsToAlarm= 1,\n",
    "    Threshold= 1,\n",
    "    ComparisonOperator='GreaterThanOrEqualToThreshold',\n",
    "    TreatMissingData='missing',\n",
    "    Dimensions=[\n",
    "        { 'Name':'EndpointName', 'Value':endpoint_name },\n",
    "    ],\n",
    "    Period= 30,\n",
    "    AlarmActions=[step_scaling_policy_arn]\n",
    ")\n",
    "response"
   ]
  },
  {
   "cell_type": "markdown",
   "id": "fed1544b-b6e3-4e10-bc13-6e984789cd24",
   "metadata": {},
   "source": [
    "## Getting prediction from an endpoint"
   ]
  },
  {
   "cell_type": "code",
   "execution_count": 10,
   "id": "e71c4daa-925a-44bc-91eb-efb7ce7098ca",
   "metadata": {},
   "outputs": [
    {
     "name": "stdout",
     "output_type": "stream",
     "text": [
      "Summary:\n",
      ": Alice follows a White Rabbit into a rabbit-hole, and falls down a deep well. She is eventually rescued by a mouse, sees a beautiful garden, and finally escapes from the hall by unlocking a door with a key she finds on a small glass table. \n",
      "\n",
      "Alice found a key and a bottle of wine on her way to the little door, but she got lost trying to find the right way to shut it. She ate a cake to make herself grow, but didn't grow at all.\n"
     ]
    }
   ],
   "source": [
    "import json\n",
    "\n",
    "sm_runtime= boto3.client('runtime.sagemaker')\n",
    "input_path = \"/home/ec2-user/SageMaker/chapter_summarization_api/src/summarizer/resources/chapter/01.txt\"\n",
    "\n",
    "with open(input_path, \"r\") as fp:\n",
    "    long_text = fp.read()\n",
    "    \n",
    "    payload_json = json.dumps({'text': long_text})\n",
    "\n",
    "    response = sm_runtime.invoke_endpoint(\n",
    "        EndpointName=endpoint_name, \n",
    "        Body=payload_json.encode('utf-8'), \n",
    "        ContentType=\"application/json\",\n",
    "        Accept=\"application/json\"\n",
    "    )\n",
    "\n",
    "    response_body = response['Body'].read().decode('utf-8')\n",
    "    summary_text = json.loads(response_body)[\"summary\"]\n",
    "    print(f\"Summary:\\n{summary_text}\")"
   ]
  },
  {
   "cell_type": "markdown",
   "id": "e4421838-a588-4ad8-b61e-624b358ecf20",
   "metadata": {},
   "source": [
    "## Clean up Resources"
   ]
  },
  {
   "cell_type": "code",
   "execution_count": 4,
   "id": "2d91cab5-58e9-4faa-94d4-02d13b86a16a",
   "metadata": {
    "tags": []
   },
   "outputs": [],
   "source": [
    "client = boto3.client('application-autoscaling')\n",
    "\n",
    "response = client.deregister_scalable_target(\n",
    "    ServiceNamespace=\"sagemaker\",\n",
    "    ResourceId=resource_id,\n",
    "    ScalableDimension=\"sagemaker:variant:DesiredInstanceCount\",\n",
    ")"
   ]
  },
  {
   "cell_type": "code",
   "execution_count": 5,
   "id": "ca752f74-d76a-4df8-afeb-944548452a51",
   "metadata": {
    "tags": []
   },
   "outputs": [
    {
     "name": "stdout",
     "output_type": "stream",
     "text": [
      "Delete endpoint response: {'ResponseMetadata': {'RequestId': '8031d991-2bc5-481e-a14f-c8348f323663', 'HTTPStatusCode': 200, 'HTTPHeaders': {'x-amzn-requestid': '8031d991-2bc5-481e-a14f-c8348f323663', 'content-type': 'application/x-amz-json-1.1', 'content-length': '0', 'date': 'Wed, 10 May 2023 13:09:34 GMT'}, 'RetryAttempts': 0}}\n",
      "Delete endpoint configuration response: {'ResponseMetadata': {'RequestId': '2537e3aa-1932-4ebe-b7f9-67c2d0183e68', 'HTTPStatusCode': 200, 'HTTPHeaders': {'x-amzn-requestid': '2537e3aa-1932-4ebe-b7f9-67c2d0183e68', 'content-type': 'application/x-amz-json-1.1', 'content-length': '0', 'date': 'Wed, 10 May 2023 13:09:35 GMT'}, 'RetryAttempts': 0}}\n",
      "Delete model response: {'ResponseMetadata': {'RequestId': 'c1dadcbd-9426-4f81-8796-05de29c82808', 'HTTPStatusCode': 200, 'HTTPHeaders': {'x-amzn-requestid': 'c1dadcbd-9426-4f81-8796-05de29c82808', 'content-type': 'application/x-amz-json-1.1', 'content-length': '0', 'date': 'Wed, 10 May 2023 13:09:35 GMT'}, 'RetryAttempts': 0}}\n"
     ]
    }
   ],
   "source": [
    "sm = boto3.client(\"sagemaker\")\n",
    "\n",
    "response = sm.delete_endpoint(EndpointName=endpoint_name)\n",
    "print(f\"Delete endpoint response: {response}\")\n",
    "\n",
    "response = sm.delete_endpoint_config(EndpointConfigName=endpoint_config_name)\n",
    "print(f\"Delete endpoint configuration response: {response}\")\n",
    "\n",
    "response = sm.delete_model(ModelName=model_name)\n",
    "print(f\"Delete model response: {response}\")"
   ]
  },
  {
   "cell_type": "code",
   "execution_count": 1,
   "id": "06ea71a7-3fe6-417c-a1d0-a0330a2e6f50",
   "metadata": {},
   "outputs": [
    {
     "name": "stdout",
     "output_type": "stream",
     "text": [
      "Python 3.8.13\n"
     ]
    }
   ],
   "source": [
    "!python --version"
   ]
  },
  {
   "cell_type": "code",
   "execution_count": null,
   "id": "96df1395-0bb6-43ae-9210-68c174f581a5",
   "metadata": {},
   "outputs": [],
   "source": []
  }
 ],
 "metadata": {
  "kernelspec": {
   "display_name": "conda_mxnet_p38",
   "language": "python",
   "name": "conda_mxnet_p38"
  },
  "language_info": {
   "codemirror_mode": {
    "name": "ipython",
    "version": 3
   },
   "file_extension": ".py",
   "mimetype": "text/x-python",
   "name": "python",
   "nbconvert_exporter": "python",
   "pygments_lexer": "ipython3",
   "version": "3.8.15"
  }
 },
 "nbformat": 4,
 "nbformat_minor": 5
}
